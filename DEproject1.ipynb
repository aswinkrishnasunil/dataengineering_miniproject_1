{
 "cells": [
  {
   "cell_type": "code",
   "execution_count": 2,
   "id": "36d154c2",
   "metadata": {},
   "outputs": [],
   "source": [
    "import psycopg2\n",
    "#Psycopg2 is a popular open-source Python library that provides an interface for connecting to PostgreSQL databases. It allows Python programs to interact with PostgreSQL databases"
   ]
  },
  {
   "cell_type": "code",
   "execution_count": 3,
   "id": "9b89eba0",
   "metadata": {},
   "outputs": [],
   "source": [
    "import pandas as pd"
   ]
  },
  {
   "cell_type": "code",
   "execution_count": 4,
   "id": "dfd6cab7",
   "metadata": {},
   "outputs": [],
   "source": [
    "def create_database():\n",
    "    try:\n",
    "        conn = psycopg2.connect(\"host=localhost dbname=postgres user=postgres password=password\")\n",
    "    except psycopg2.Error as e :\n",
    "        print(\"error,couldnt conmnect to database\")\n",
    "        print(e)\n",
    "    conn.set_session(autocommit=True) \n",
    "    #sets the database connection's session to autocommit mode. In autocommit mode, each SQL statement you execute is automatically committed to the database\n",
    "    cur = conn.cursor()\n",
    "    # the cur cursor to execute SQL statements and queries within an autocommit mode, and the changes will be immediately applied to the database without the need for explicit commit commands.\n",
    "    \n",
    "    cur.execute(\"DROP DATABASE IF EXISTS movie1\")#drop the database \"movie\" if it exists\n",
    "    cur.execute(\"CREATE DATABASE movie1\")  #creating a new database named\"movie\"\n",
    "    \n",
    "    #close connection to default database\n",
    "    conn.close()\n",
    "    try:\n",
    "        conn = psycopg2.connect(\"host=localhost dbname=movie1 user=postgres password=password\")\n",
    "    except psycopg2.Error as e:\n",
    "        print(\"error, couldnt connect to database\")\n",
    "        print(e)\n",
    "    conn.set_session(autocommit = True)    \n",
    "    cur = conn.cursor()\n",
    "    \n",
    "    return cur , conn\n",
    "    #returning both the cursor (cur) and the connection (conn) as a tuple. This allows you to easily access both the cursor and the connection when you call the function."
   ]
  },
  {
   "cell_type": "code",
   "execution_count": null,
   "id": "963cb361",
   "metadata": {},
   "outputs": [],
   "source": [
    "\n",
    "    "
   ]
  },
  {
   "cell_type": "code",
   "execution_count": 5,
   "id": "2694fc79",
   "metadata": {},
   "outputs": [],
   "source": [
    "\n",
    "movielist = pd.read_csv(r\"C:\\Users\\User\\Desktop\\python\\netflix_titles.csv\")"
   ]
  },
  {
   "cell_type": "code",
   "execution_count": 6,
   "id": "40e7dc1f",
   "metadata": {},
   "outputs": [
    {
     "data": {
      "text/html": [
       "<div>\n",
       "<style scoped>\n",
       "    .dataframe tbody tr th:only-of-type {\n",
       "        vertical-align: middle;\n",
       "    }\n",
       "\n",
       "    .dataframe tbody tr th {\n",
       "        vertical-align: top;\n",
       "    }\n",
       "\n",
       "    .dataframe thead th {\n",
       "        text-align: right;\n",
       "    }\n",
       "</style>\n",
       "<table border=\"1\" class=\"dataframe\">\n",
       "  <thead>\n",
       "    <tr style=\"text-align: right;\">\n",
       "      <th></th>\n",
       "      <th>show_id</th>\n",
       "      <th>type</th>\n",
       "      <th>title</th>\n",
       "      <th>director</th>\n",
       "      <th>cast</th>\n",
       "      <th>country</th>\n",
       "      <th>date_added</th>\n",
       "      <th>release_year</th>\n",
       "      <th>rating</th>\n",
       "      <th>duration</th>\n",
       "      <th>listed_in</th>\n",
       "      <th>description</th>\n",
       "    </tr>\n",
       "  </thead>\n",
       "  <tbody>\n",
       "    <tr>\n",
       "      <th>8802</th>\n",
       "      <td>s8803</td>\n",
       "      <td>Movie</td>\n",
       "      <td>Zodiac</td>\n",
       "      <td>David Fincher</td>\n",
       "      <td>Mark Ruffalo, Jake Gyllenhaal, Robert Downey J...</td>\n",
       "      <td>United States</td>\n",
       "      <td>November 20, 2019</td>\n",
       "      <td>2007</td>\n",
       "      <td>R</td>\n",
       "      <td>158 min</td>\n",
       "      <td>Cult Movies, Dramas, Thrillers</td>\n",
       "      <td>A political cartoonist, a crime reporter and a...</td>\n",
       "    </tr>\n",
       "    <tr>\n",
       "      <th>8803</th>\n",
       "      <td>s8804</td>\n",
       "      <td>TV Show</td>\n",
       "      <td>Zombie Dumb</td>\n",
       "      <td>NaN</td>\n",
       "      <td>NaN</td>\n",
       "      <td>NaN</td>\n",
       "      <td>July 1, 2019</td>\n",
       "      <td>2018</td>\n",
       "      <td>TV-Y7</td>\n",
       "      <td>2 Seasons</td>\n",
       "      <td>Kids' TV, Korean TV Shows, TV Comedies</td>\n",
       "      <td>While living alone in a spooky town, a young g...</td>\n",
       "    </tr>\n",
       "    <tr>\n",
       "      <th>8804</th>\n",
       "      <td>s8805</td>\n",
       "      <td>Movie</td>\n",
       "      <td>Zombieland</td>\n",
       "      <td>Ruben Fleischer</td>\n",
       "      <td>Jesse Eisenberg, Woody Harrelson, Emma Stone, ...</td>\n",
       "      <td>United States</td>\n",
       "      <td>November 1, 2019</td>\n",
       "      <td>2009</td>\n",
       "      <td>R</td>\n",
       "      <td>88 min</td>\n",
       "      <td>Comedies, Horror Movies</td>\n",
       "      <td>Looking to survive in a world taken over by zo...</td>\n",
       "    </tr>\n",
       "    <tr>\n",
       "      <th>8805</th>\n",
       "      <td>s8806</td>\n",
       "      <td>Movie</td>\n",
       "      <td>Zoom</td>\n",
       "      <td>Peter Hewitt</td>\n",
       "      <td>Tim Allen, Courteney Cox, Chevy Chase, Kate Ma...</td>\n",
       "      <td>United States</td>\n",
       "      <td>January 11, 2020</td>\n",
       "      <td>2006</td>\n",
       "      <td>PG</td>\n",
       "      <td>88 min</td>\n",
       "      <td>Children &amp; Family Movies, Comedies</td>\n",
       "      <td>Dragged from civilian life, a former superhero...</td>\n",
       "    </tr>\n",
       "    <tr>\n",
       "      <th>8806</th>\n",
       "      <td>s8807</td>\n",
       "      <td>Movie</td>\n",
       "      <td>Zubaan</td>\n",
       "      <td>Mozez Singh</td>\n",
       "      <td>Vicky Kaushal, Sarah-Jane Dias, Raaghav Chanan...</td>\n",
       "      <td>India</td>\n",
       "      <td>March 2, 2019</td>\n",
       "      <td>2015</td>\n",
       "      <td>TV-14</td>\n",
       "      <td>111 min</td>\n",
       "      <td>Dramas, International Movies, Music &amp; Musicals</td>\n",
       "      <td>A scrappy but poor boy worms his way into a ty...</td>\n",
       "    </tr>\n",
       "  </tbody>\n",
       "</table>\n",
       "</div>"
      ],
      "text/plain": [
       "     show_id     type        title         director  \\\n",
       "8802   s8803    Movie       Zodiac    David Fincher   \n",
       "8803   s8804  TV Show  Zombie Dumb              NaN   \n",
       "8804   s8805    Movie   Zombieland  Ruben Fleischer   \n",
       "8805   s8806    Movie         Zoom     Peter Hewitt   \n",
       "8806   s8807    Movie       Zubaan      Mozez Singh   \n",
       "\n",
       "                                                   cast        country  \\\n",
       "8802  Mark Ruffalo, Jake Gyllenhaal, Robert Downey J...  United States   \n",
       "8803                                                NaN            NaN   \n",
       "8804  Jesse Eisenberg, Woody Harrelson, Emma Stone, ...  United States   \n",
       "8805  Tim Allen, Courteney Cox, Chevy Chase, Kate Ma...  United States   \n",
       "8806  Vicky Kaushal, Sarah-Jane Dias, Raaghav Chanan...          India   \n",
       "\n",
       "             date_added  release_year rating   duration  \\\n",
       "8802  November 20, 2019          2007      R    158 min   \n",
       "8803       July 1, 2019          2018  TV-Y7  2 Seasons   \n",
       "8804   November 1, 2019          2009      R     88 min   \n",
       "8805   January 11, 2020          2006     PG     88 min   \n",
       "8806      March 2, 2019          2015  TV-14    111 min   \n",
       "\n",
       "                                           listed_in  \\\n",
       "8802                  Cult Movies, Dramas, Thrillers   \n",
       "8803          Kids' TV, Korean TV Shows, TV Comedies   \n",
       "8804                         Comedies, Horror Movies   \n",
       "8805              Children & Family Movies, Comedies   \n",
       "8806  Dramas, International Movies, Music & Musicals   \n",
       "\n",
       "                                            description  \n",
       "8802  A political cartoonist, a crime reporter and a...  \n",
       "8803  While living alone in a spooky town, a young g...  \n",
       "8804  Looking to survive in a world taken over by zo...  \n",
       "8805  Dragged from civilian life, a former superhero...  \n",
       "8806  A scrappy but poor boy worms his way into a ty...  "
      ]
     },
     "execution_count": 6,
     "metadata": {},
     "output_type": "execute_result"
    }
   ],
   "source": [
    "movielist.tail()"
   ]
  },
  {
   "cell_type": "code",
   "execution_count": 7,
   "id": "fc9ac692",
   "metadata": {},
   "outputs": [],
   "source": [
    "\n",
    "movies = movielist[['type','title','director','release_year']]"
   ]
  },
  {
   "cell_type": "code",
   "execution_count": 8,
   "id": "38a5b71f",
   "metadata": {},
   "outputs": [],
   "source": [
    "movie_clean=movies.dropna()"
   ]
  },
  {
   "cell_type": "code",
   "execution_count": 9,
   "id": "6fa290fc",
   "metadata": {},
   "outputs": [
    {
     "data": {
      "text/html": [
       "<div>\n",
       "<style scoped>\n",
       "    .dataframe tbody tr th:only-of-type {\n",
       "        vertical-align: middle;\n",
       "    }\n",
       "\n",
       "    .dataframe tbody tr th {\n",
       "        vertical-align: top;\n",
       "    }\n",
       "\n",
       "    .dataframe thead th {\n",
       "        text-align: right;\n",
       "    }\n",
       "</style>\n",
       "<table border=\"1\" class=\"dataframe\">\n",
       "  <thead>\n",
       "    <tr style=\"text-align: right;\">\n",
       "      <th></th>\n",
       "      <th>type</th>\n",
       "      <th>title</th>\n",
       "      <th>director</th>\n",
       "      <th>release_year</th>\n",
       "    </tr>\n",
       "  </thead>\n",
       "  <tbody>\n",
       "    <tr>\n",
       "      <th>0</th>\n",
       "      <td>Movie</td>\n",
       "      <td>Dick Johnson Is Dead</td>\n",
       "      <td>Kirsten Johnson</td>\n",
       "      <td>2020</td>\n",
       "    </tr>\n",
       "    <tr>\n",
       "      <th>2</th>\n",
       "      <td>TV Show</td>\n",
       "      <td>Ganglands</td>\n",
       "      <td>Julien Leclercq</td>\n",
       "      <td>2021</td>\n",
       "    </tr>\n",
       "    <tr>\n",
       "      <th>5</th>\n",
       "      <td>TV Show</td>\n",
       "      <td>Midnight Mass</td>\n",
       "      <td>Mike Flanagan</td>\n",
       "      <td>2021</td>\n",
       "    </tr>\n",
       "    <tr>\n",
       "      <th>6</th>\n",
       "      <td>Movie</td>\n",
       "      <td>My Little Pony: A New Generation</td>\n",
       "      <td>Robert Cullen, José Luis Ucha</td>\n",
       "      <td>2021</td>\n",
       "    </tr>\n",
       "    <tr>\n",
       "      <th>7</th>\n",
       "      <td>Movie</td>\n",
       "      <td>Sankofa</td>\n",
       "      <td>Haile Gerima</td>\n",
       "      <td>1993</td>\n",
       "    </tr>\n",
       "  </tbody>\n",
       "</table>\n",
       "</div>"
      ],
      "text/plain": [
       "      type                             title                       director  \\\n",
       "0    Movie              Dick Johnson Is Dead                Kirsten Johnson   \n",
       "2  TV Show                         Ganglands                Julien Leclercq   \n",
       "5  TV Show                     Midnight Mass                  Mike Flanagan   \n",
       "6    Movie  My Little Pony: A New Generation  Robert Cullen, José Luis Ucha   \n",
       "7    Movie                           Sankofa                   Haile Gerima   \n",
       "\n",
       "   release_year  \n",
       "0          2020  \n",
       "2          2021  \n",
       "5          2021  \n",
       "6          2021  \n",
       "7          1993  "
      ]
     },
     "execution_count": 9,
     "metadata": {},
     "output_type": "execute_result"
    }
   ],
   "source": [
    "movie_clean.head(5)"
   ]
  },
  {
   "cell_type": "code",
   "execution_count": 10,
   "id": "21e4ad94",
   "metadata": {},
   "outputs": [
    {
     "ename": "ObjectInUse",
     "evalue": "database \"movie1\" is being accessed by other users\nDETAIL:  There is 1 other session using the database.\n",
     "output_type": "error",
     "traceback": [
      "\u001b[1;31m---------------------------------------------------------------------------\u001b[0m",
      "\u001b[1;31mObjectInUse\u001b[0m                               Traceback (most recent call last)",
      "Cell \u001b[1;32mIn[10], line 1\u001b[0m\n\u001b[1;32m----> 1\u001b[0m cur , conn \u001b[38;5;241m=\u001b[39m create_database()\n",
      "Cell \u001b[1;32mIn[4], line 12\u001b[0m, in \u001b[0;36mcreate_database\u001b[1;34m()\u001b[0m\n\u001b[0;32m      9\u001b[0m cur \u001b[38;5;241m=\u001b[39m conn\u001b[38;5;241m.\u001b[39mcursor()\n\u001b[0;32m     10\u001b[0m \u001b[38;5;66;03m# the cur cursor to execute SQL statements and queries within an autocommit mode, and the changes will be immediately applied to the database without the need for explicit commit commands.\u001b[39;00m\n\u001b[1;32m---> 12\u001b[0m cur\u001b[38;5;241m.\u001b[39mexecute(\u001b[38;5;124m\"\u001b[39m\u001b[38;5;124mDROP DATABASE IF EXISTS movie1\u001b[39m\u001b[38;5;124m\"\u001b[39m)\u001b[38;5;66;03m#drop the database \"movie\" if it exists\u001b[39;00m\n\u001b[0;32m     13\u001b[0m cur\u001b[38;5;241m.\u001b[39mexecute(\u001b[38;5;124m\"\u001b[39m\u001b[38;5;124mCREATE DATABASE movie1\u001b[39m\u001b[38;5;124m\"\u001b[39m)  \u001b[38;5;66;03m#creating a new database named\"movie\"\u001b[39;00m\n\u001b[0;32m     15\u001b[0m \u001b[38;5;66;03m#close connection to default database\u001b[39;00m\n",
      "\u001b[1;31mObjectInUse\u001b[0m: database \"movie1\" is being accessed by other users\nDETAIL:  There is 1 other session using the database.\n"
     ]
    }
   ],
   "source": [
    "cur , conn = create_database()"
   ]
  },
  {
   "cell_type": "code",
   "execution_count": null,
   "id": "e743791c",
   "metadata": {},
   "outputs": [],
   "source": [
    "tab= (\"\"\" CREATE TABLE  movielist(\n",
    "type VARCHAR,\n",
    "title VARCHAR PRIMARY KEY,\n",
    "director VARCHAR,\n",
    "release_year VARCHAR) \"\"\")"
   ]
  },
  {
   "cell_type": "code",
   "execution_count": null,
   "id": "00596716",
   "metadata": {},
   "outputs": [],
   "source": [
    "cur.execute(tab)\n",
    "conn.commit() #statement is used to commit (save) the changes made during the current database transaction to the PostgreSQL database"
   ]
  },
  {
   "cell_type": "code",
   "execution_count": null,
   "id": "b66d9a56",
   "metadata": {},
   "outputs": [],
   "source": [
    "tab_insert = (\"\"\" insert into movielist(type,title,director,release_year)\n",
    "values(%s,%s,%s,%s)\"\"\") #The %s placeholders are placeholders for parameterized values that you will supply when executing the query."
   ]
  },
  {
   "cell_type": "code",
   "execution_count": null,
   "id": "b73cf568",
   "metadata": {},
   "outputs": [],
   "source": [
    "for i,row in movie_clean.iterrows():# iterrows returns index and information stored in a row of a data frame\n",
    "    cur.execute(tab_insert,list(row))# So we are reading each row from reviews dataframe and inserting it into reviews table "
   ]
  },
  {
   "cell_type": "code",
   "execution_count": null,
   "id": "ff1753d7",
   "metadata": {},
   "outputs": [],
   "source": []
  },
  {
   "cell_type": "code",
   "execution_count": null,
   "id": "ff573a86",
   "metadata": {},
   "outputs": [],
   "source": []
  },
  {
   "cell_type": "code",
   "execution_count": null,
   "id": "369701c8",
   "metadata": {},
   "outputs": [],
   "source": []
  }
 ],
 "metadata": {
  "kernelspec": {
   "display_name": "Python 3 (ipykernel)",
   "language": "python",
   "name": "python3"
  },
  "language_info": {
   "codemirror_mode": {
    "name": "ipython",
    "version": 3
   },
   "file_extension": ".py",
   "mimetype": "text/x-python",
   "name": "python",
   "nbconvert_exporter": "python",
   "pygments_lexer": "ipython3",
   "version": "3.11.4"
  }
 },
 "nbformat": 4,
 "nbformat_minor": 5
}
